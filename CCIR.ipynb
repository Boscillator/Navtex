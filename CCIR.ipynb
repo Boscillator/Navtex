{
 "cells": [
  {
   "cell_type": "code",
   "execution_count": 35,
   "metadata": {},
   "outputs": [
    {
     "name": "stdout",
     "output_type": "stream",
     "text": [
      "['LTRS', 'a', 'b', '11111', '011111', '0001110', '1011010', '0111110', '11111', '00000', '01110', '11010', '00001']\n"
     ]
    }
   ],
   "source": [
    "alphabet = {}\n",
    "\n",
    "with open('ccir.txt') as f:\n",
    "    for line in f:\n",
    "        row = line.strip().split()\n",
    "        if not row:\n",
    "            continue\n",
    "        alphabet[ row[6].strip() ] = row[0].strip()\n",
    "        if(row[0].strip() == 'LTRS'):\n",
    "            print(row)"
   ]
  },
  {
   "cell_type": "code",
   "execution_count": 36,
   "metadata": {},
   "outputs": [
    {
     "data": {
      "text/plain": [
       "{'00010': 'CR',\n",
       " '00100': 'Space',\n",
       " '0010111': 'J',\n",
       " '0011011': 'F',\n",
       " '0011101': 'C',\n",
       " '0011110': 'K',\n",
       " '01000': 'LF',\n",
       " '0100111': 'W',\n",
       " '0101011': 'Y',\n",
       " '0101101': 'P',\n",
       " '0101110': 'Q',\n",
       " '0110101': 'G',\n",
       " '0111001': 'M',\n",
       " '0111010': 'X',\n",
       " '0111100': 'V',\n",
       " '1000111': 'A',\n",
       " '1001011': 'S',\n",
       " '1001101': 'I',\n",
       " '1001110': 'U',\n",
       " '1010011': 'D',\n",
       " '1010101': 'R',\n",
       " '1010110': 'E',\n",
       " '1011001': 'N',\n",
       " '1011010': 'LTRS',\n",
       " '1100011': 'Z',\n",
       " '1100101': 'L',\n",
       " '1101001': 'H',\n",
       " '11011': 'FIGS',\n",
       " '1110001': 'O',\n",
       " '1110010': 'B',\n",
       " '1110100': 'T'}"
      ]
     },
     "execution_count": 36,
     "metadata": {},
     "output_type": "execute_result"
    }
   ],
   "source": [
    "alphabet"
   ]
  },
  {
   "cell_type": "code",
   "execution_count": null,
   "metadata": {
    "collapsed": true
   },
   "outputs": [],
   "source": []
  }
 ],
 "metadata": {
  "kernelspec": {
   "display_name": "Python [default]",
   "language": "python",
   "name": "python3"
  },
  "language_info": {
   "codemirror_mode": {
    "name": "ipython",
    "version": 3
   },
   "file_extension": ".py",
   "mimetype": "text/x-python",
   "name": "python",
   "nbconvert_exporter": "python",
   "pygments_lexer": "ipython3",
   "version": "3.6.3"
  }
 },
 "nbformat": 4,
 "nbformat_minor": 2
}
